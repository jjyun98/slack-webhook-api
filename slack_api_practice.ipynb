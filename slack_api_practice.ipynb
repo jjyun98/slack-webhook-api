{
 "cells": [
  {
   "cell_type": "markdown",
   "id": "59f8d09c",
   "metadata": {},
   "source": [
    "## Slack에 무언가 보내기"
   ]
  },
  {
   "cell_type": "markdown",
   "id": "bf159054",
   "metadata": {},
   "source": [
    "webhook 개인용 파서 하세요. 많이 보내면 민폐에요."
   ]
  },
  {
   "cell_type": "markdown",
   "id": "36a59bbb",
   "metadata": {},
   "source": [
    "**메시지**"
   ]
  },
  {
   "cell_type": "code",
   "execution_count": null,
   "id": "148fbe7f",
   "metadata": {},
   "outputs": [],
   "source": "import requests\nimport os\n\n# 환경변수에서 webhook URL 가져오기\nwebhook = os.environ.get('SLACK_WEBHOOK', 'YOUR_WEBHOOK_URL_HERE')\nrequests.post(webhook, json={'text': f'테스트 안녕하세요!'})"
  },
  {
   "cell_type": "markdown",
   "id": "0290714c",
   "metadata": {},
   "source": [
    "**함수**"
   ]
  },
  {
   "cell_type": "code",
   "execution_count": null,
   "id": "3a5df899",
   "metadata": {},
   "outputs": [],
   "source": "import os\n\nwebhook = os.environ.get('SLACK_WEBHOOK', 'YOUR_WEBHOOK_URL_HERE')\n\ndef send_slack(message):\n    requests.post(webhook, json={'text': f\"{message}테스트입니다.\"})"
  },
  {
   "cell_type": "code",
   "execution_count": 4,
   "id": "8e6feee8",
   "metadata": {},
   "outputs": [],
   "source": [
    "send_slack(\"환율\")"
   ]
  },
  {
   "cell_type": "markdown",
   "id": "4a8e052f",
   "metadata": {},
   "source": [
    "**이미지**"
   ]
  },
  {
   "cell_type": "code",
   "execution_count": null,
   "id": "f6025188",
   "metadata": {},
   "outputs": [],
   "source": "import os\n\nwebhook = os.environ.get('SLACK_WEBHOOK', 'YOUR_WEBHOOK_URL_HERE')\n\nrequests.post(webhook, json={\n    'text': '지난 수업 복습',\n    'block': [{\n        'type': 'section',\n        'accessory': {\n            'type': 'image',\n            'image_url': 'url',\n            'alt_text': 'img'\n\n        }\n    }]\n})"
  },
  {
   "cell_type": "markdown",
   "id": "59e10d75",
   "metadata": {},
   "source": [
    "**오류 확인**"
   ]
  },
  {
   "cell_type": "code",
   "execution_count": null,
   "id": "71e409fa",
   "metadata": {},
   "outputs": [],
   "source": "import os\n\nwebhook = os.environ.get('SLACK_WEBHOOK', 'YOUR_WEBHOOK_URL_HERE')\n\ndef send_slack(message, image_url=None):\n    payload = {'text': message}\n\n    if image_url:\n        payload['blocks'] = [{\n            'type': 'section',\n            'text': {'type': 'mrkdwn', 'text': message},\n            'accessory': {\n                'type': 'image',\n                'image_url': image_url,\n                'alt_text': 'image'\n            }\n        }]\n\n    try:\n        resp = requests.post(webhook, json=payload, timeout=5)\n        resp.raise_for_status()\n        return True\n    except:\n        return False"
  },
  {
   "cell_type": "code",
   "execution_count": null,
   "id": "c9a32a60",
   "metadata": {},
   "outputs": [],
   "source": [
    "# 사용\n",
    "if send_slack(\"테스트\"):\n",
    "    print('전송 성공')\n",
    "else:\n",
    "    print(\"전송 실패\")"
   ]
  },
  {
   "cell_type": "markdown",
   "id": "8ffb5120",
   "metadata": {},
   "source": [
    "### Slack + 환율 API 연동"
   ]
  },
  {
   "cell_type": "code",
   "execution_count": null,
   "id": "da9ab332",
   "metadata": {},
   "outputs": [],
   "source": "import requests\nimport os\n\nwebhook = os.environ.get('SLACK_WEBHOOK', 'YOUR_WEBHOOK_URL_HERE')\n\n# 환율 API 가져오기\nresp = requests.get('https://api.frankfurter.dev/latest?from=USD&to=KRW') # 사용법 API 사이트에 들어가면 나와있음.\ndata = resp.json()"
  },
  {
   "cell_type": "code",
   "execution_count": null,
   "id": "36da018a",
   "metadata": {},
   "outputs": [],
   "source": [
    "# Slack 전송\n",
    "rate = data['rates']['KRW']\n",
    "requests.post(webhook, json={\n",
    "    'text': f'오늘의 환율은 {rate}원!'\n",
    "})"
   ]
  },
  {
   "cell_type": "markdown",
   "id": "2fdd1936",
   "metadata": {},
   "source": [
    "### 환율 API -> csv, json"
   ]
  },
  {
   "cell_type": "markdown",
   "id": "7f6ebe82",
   "metadata": {},
   "source": [
    "**기간 생성 함수**"
   ]
  },
  {
   "cell_type": "code",
   "execution_count": 65,
   "id": "4e2991ba",
   "metadata": {},
   "outputs": [],
   "source": [
    "from datetime import datetime, timedelta\n",
    "\n",
    "def generate_date_list(start_date, end_date):\n",
    "    start = datetime.strptime(start_date, '%Y-%m-%d')\n",
    "    end = datetime.strptime(end_date, '%Y-%m-%d')\n",
    "\n",
    "    date_list = []\n",
    "    current = start\n",
    "\n",
    "    while current <= end:\n",
    "        date_list.append(current.strftime('%Y-%m-%d'))\n",
    "        current += timedelta(days=1)\n",
    "    \n",
    "    return date_list"
   ]
  },
  {
   "cell_type": "markdown",
   "id": "ea20444f",
   "metadata": {},
   "source": [
    "**환율 반환 함수**  \n",
    "날짜(list, strt) -> 환율"
   ]
  },
  {
   "cell_type": "code",
   "execution_count": 66,
   "id": "537d78dd",
   "metadata": {},
   "outputs": [],
   "source": [
    "import csv\n",
    "import json\n",
    "from datetime import datetime, timedelta\n",
    "from email.utils import parsedate_to_datetime\n",
    "import time\n",
    "import random\n",
    "import requests\n",
    "\n",
    "def get_exchange_rate(date, base=\"USD\", save_format=None):\n",
    "    \n",
    "    if isinstance(date, str):\n",
    "        dt = datetime.strptime(date, '%Y-%m-%d')\n",
    "        if dt.weekday() >= 5:\n",
    "            return None\n",
    "        \n",
    "        base_url = 'https://api.frankfurter.dev/v1'\n",
    "        url = f\"{base_url}/{date}?base={base}\"\n",
    "\n",
    "        resp = requests.get(url)\n",
    "        \n",
    "        # 응답 시각\n",
    "        utc_time = resp.headers['Date']\n",
    "        kst_time = parsedate_to_datetime(utc_time) + timedelta(hours=9)\n",
    "        req_time = kst_time.strftime('%Y-%m-%d %H:%M:%S')\n",
    "\n",
    "        data = resp.json()\n",
    "        rates = data['rates']['KRW']\n",
    "        \n",
    "        return {\n",
    "            'date': date,\n",
    "            'response_time': req_time,\n",
    "            'rates': rates\n",
    "        }\n",
    "    \n",
    "    elif isinstance(date, list):\n",
    "        results = []\n",
    "        for each_date in date:\n",
    "            result = get_exchange_rate(each_date, base)\n",
    "            if result is not None:\n",
    "                results.append(result)\n",
    "            time.sleep(random.uniform(5, 10))\n",
    "\n",
    "        # 저장\n",
    "        if save_format == 'csv':\n",
    "            save_to_csv(results)\n",
    "        elif save_format == 'json':\n",
    "            save_to_json(results)\n",
    "\n",
    "        return results\n",
    "    \n",
    "def save_to_csv(data_list, filename='rates.csv'):\n",
    "    with open(filename, 'w', newline='', encoding='utf-8') as f:\n",
    "        writer = csv.DictWriter(f, fieldnames=['date', 'response_time', 'rates'])\n",
    "        writer.writeheader()\n",
    "        writer.writerows(data_list)\n",
    "    print(f'{filename} 저장 완료!')\n",
    "\n",
    "def save_to_json(data_list, filename='rates.json'):\n",
    "    with open(filename, 'w', encoding='utf-8') as f:\n",
    "        json.dump(data_list, f, ensure_ascii=False, indent=2)\n",
    "    print(f\"{filename} 저장 완료!\")"
   ]
  },
  {
   "cell_type": "code",
   "execution_count": 68,
   "id": "2ae0dc77",
   "metadata": {},
   "outputs": [
    {
     "data": {
      "text/plain": [
       "[{'date': '2025-10-17',\n",
       "  'response_time': '2025-10-22 19:43:41',\n",
       "  'rates': 1420.58},\n",
       " {'date': '2025-10-20',\n",
       "  'response_time': '2025-10-22 19:44:01',\n",
       "  'rates': 1423.54},\n",
       " {'date': '2025-10-21',\n",
       "  'response_time': '2025-10-22 19:44:11',\n",
       "  'rates': 1430.5}]"
      ]
     },
     "execution_count": 68,
     "metadata": {},
     "output_type": "execute_result"
    }
   ],
   "source": [
    "temp_date= generate_date_list('2025-10-17', '2025-10-21')\n",
    "get_exchange_rate(temp_date)"
   ]
  },
  {
   "cell_type": "markdown",
   "id": "ae9e2402",
   "metadata": {},
   "source": [
    "### Slack + AWS"
   ]
  },
  {
   "cell_type": "code",
   "execution_count": null,
   "id": "2aa8cdd0",
   "metadata": {},
   "outputs": [],
   "source": [
    "import json\n",
    "import urllib.request\n",
    "from datetime import datetime, timedelta\n",
    "from email.utils import parsedate_to_datetime\n",
    "import time\n",
    "import random\n",
    "import boto3\n",
    "from io import StringIO\n",
    "import csv\n",
    "import os\n",
    "\n",
    "def generate_date_list(start_date, end_date):\n",
    "    \"\"\"날짜 리스트 생성\"\"\"\n",
    "    start = datetime.strptime(start_date, '%Y-%m-%d')\n",
    "    end = datetime.strptime(end_date, '%Y-%m-%d')\n",
    "    date_list = []\n",
    "    current = start\n",
    "    while current <= end:\n",
    "        date_list.append(current.strftime('%Y-%m-%d'))\n",
    "        current += timedelta(days=1)\n",
    "    return date_list\n",
    "\n",
    "def get_exchange_rate(date, base=\"USD\"):\n",
    "    \"\"\"환율 조회\"\"\"\n",
    "    if isinstance(date, str):\n",
    "        dt = datetime.strptime(date, '%Y-%m-%d')\n",
    "        if dt.weekday() >= 5:\n",
    "            return None\n",
    "        \n",
    "        url = f\"https://api.frankfurter.dev/v1/{date}?base={base}\"\n",
    "        \n",
    "        with urllib.request.urlopen(url) as response:\n",
    "            # 응답 시각\n",
    "            utc_time = response.headers['Date']\n",
    "            kst_time = parsedate_to_datetime(utc_time) + timedelta(hours=9)\n",
    "            req_time = kst_time.strftime('%Y-%m-%d %H:%M:%S')\n",
    "            \n",
    "            # 데이터\n",
    "            data = json.loads(response.read())\n",
    "            rates = data['rates']['KRW']\n",
    "        \n",
    "        return {\n",
    "            'date': date,\n",
    "            'response_time': req_time,\n",
    "            'rates': rates\n",
    "        }\n",
    "    \n",
    "    elif isinstance(date, list):\n",
    "        results = []\n",
    "        for each_date in date:\n",
    "            result = get_exchange_rate(each_date, base)\n",
    "            if result is not None:\n",
    "                results.append(result)\n",
    "            time.sleep(random.uniform(5, 10))\n",
    "        return results\n",
    "\n",
    "def upload_to_s3(data_list, bucket_name, file_format='csv'):\n",
    "    \"\"\"S3에 파일 업로드\"\"\"\n",
    "    s3 = boto3.client('s3')\n",
    "    timestamp = datetime.now().strftime('%Y%m%d_%H%M%S')\n",
    "    \n",
    "    if file_format == 'csv':\n",
    "        output = StringIO()\n",
    "        writer = csv.DictWriter(output, fieldnames=['date', 'response_time', 'rates'])\n",
    "        writer.writeheader()\n",
    "        writer.writerows(data_list)\n",
    "        \n",
    "        filename = f'exchange_rates_{timestamp}.csv'\n",
    "        s3.put_object(\n",
    "            Bucket=bucket_name,\n",
    "            Key=filename,\n",
    "            Body=output.getvalue(),\n",
    "            ContentType='text/csv'\n",
    "        )\n",
    "    \n",
    "    elif file_format == 'json':\n",
    "        filename = f'exchange_rates_{timestamp}.json'\n",
    "        s3.put_object(\n",
    "            Bucket=bucket_name,\n",
    "            Key=filename,\n",
    "            Body=json.dumps(data_list, ensure_ascii=False, indent=2),\n",
    "            ContentType='application/json'\n",
    "        )\n",
    "    \n",
    "    return filename\n",
    "\n",
    "def send_slack(message):\n",
    "    \"\"\"Slack 메시지 전송\"\"\"\n",
    "    webhook = os.environ['SLACK_WEBHOOK']\n",
    "    \n",
    "    req = urllib.request.Request(\n",
    "        webhook,\n",
    "        data=json.dumps({'text': message}).encode('utf-8'),\n",
    "        headers={'Content-Type': 'application/json'}\n",
    "    )\n",
    "    urllib.request.urlopen(req)\n",
    "\n",
    "def lambda_handler(event, context):\n",
    "    \"\"\"Lambda 핸들러\"\"\"\n",
    "    try:\n",
    "        # 환율 조회\n",
    "        dates = generate_date_list('2025-08-15', '2025-08-30')\n",
    "        results = get_exchange_rate(dates, base=\"USD\")\n",
    "        \n",
    "        # S3 업로드\n",
    "        bucket_name = os.environ['BUCKET_NAME']\n",
    "        filename = upload_to_s3(results, bucket_name, file_format='csv')\n",
    "        \n",
    "        # Slack 알림\n",
    "        send_slack(f'환율 데이터 저장 완료!\\n파일: {filename}\\n레코드 수: {len(results)}')\n",
    "        \n",
    "        return {\n",
    "            'statusCode': 200,\n",
    "            'body': json.dumps({'message': 'Success', 'filename': filename})\n",
    "        }\n",
    "    \n",
    "    except Exception as e:\n",
    "        send_slack('환율 데이터 저장 실패')\n",
    "        print(f'에러 상세: {str(e)}')\n",
    "        return {\n",
    "            'statusCode': 500,\n",
    "            'body': json.dumps({'error': str(e)})\n",
    "        }"
   ]
  }
 ],
 "metadata": {
  "kernelspec": {
   "display_name": "woong",
   "language": "python",
   "name": "python3"
  },
  "language_info": {
   "codemirror_mode": {
    "name": "ipython",
    "version": 3
   },
   "file_extension": ".py",
   "mimetype": "text/x-python",
   "name": "python",
   "nbconvert_exporter": "python",
   "pygments_lexer": "ipython3",
   "version": "3.11.13"
  }
 },
 "nbformat": 4,
 "nbformat_minor": 5
}